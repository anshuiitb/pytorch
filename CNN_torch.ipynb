{
  "nbformat": 4,
  "nbformat_minor": 0,
  "metadata": {
    "colab": {
      "provenance": [],
      "authorship_tag": "ABX9TyNS6SptKZJ6UOHvYtfQQjiJ",
      "include_colab_link": true
    },
    "kernelspec": {
      "name": "python3",
      "display_name": "Python 3"
    },
    "language_info": {
      "name": "python"
    }
  },
  "cells": [
    {
      "cell_type": "markdown",
      "metadata": {
        "id": "view-in-github",
        "colab_type": "text"
      },
      "source": [
        "<a href=\"https://colab.research.google.com/github/anshuiitb/pytorch/blob/main/CNN_torch.ipynb\" target=\"_parent\"><img src=\"https://colab.research.google.com/assets/colab-badge.svg\" alt=\"Open In Colab\"/></a>"
      ]
    },
    {
      "cell_type": "code",
      "execution_count": 40,
      "metadata": {
        "id": "AuR72IBb5MWd"
      },
      "outputs": [],
      "source": [
        "import torch\n",
        "import torch.nn as nn\n",
        "import torch.nn.functional as F\n",
        "from torch.utils.data import DataLoader\n",
        "from torchvision import datasets, transforms\n",
        "import matplotlib.pyplot as plt\n",
        "%matplotlib inline\n",
        "\n",
        "from torchvision.utils import make_grid\n",
        "\n",
        "import numpy as np\n",
        "import pandas as pd\n",
        "from sklearn.metrics import confusion_matrix\n"
      ]
    },
    {
      "cell_type": "code",
      "source": [
        "# convert mnist Image file in tensor of 4-Dimension\n",
        "transforms = transforms.ToTensor()"
      ],
      "metadata": {
        "id": "u1_EuRBy-hXm"
      },
      "execution_count": 27,
      "outputs": []
    },
    {
      "cell_type": "code",
      "source": [
        "# train data\n",
        "\n",
        "train_data = datasets.MNIST(root='/cnn_data', train=True, download=True, transform=transforms)"
      ],
      "metadata": {
        "id": "DDKdeJkr_Gim"
      },
      "execution_count": 28,
      "outputs": []
    },
    {
      "cell_type": "code",
      "source": [
        "test_data = datasets.MNIST(root='/cnn_data', train=False, download=True, transform=transforms)"
      ],
      "metadata": {
        "id": "xm2HJvWF_Qvr"
      },
      "execution_count": 29,
      "outputs": []
    },
    {
      "cell_type": "code",
      "source": [
        "train_loader = DataLoader(train_data , batch_size = 10 , shuffle = True)\n",
        "test_loader = DataLoader(test_data , batch_size = 10 , shuffle = False)"
      ],
      "metadata": {
        "id": "s3L3DsFcAT8j"
      },
      "execution_count": 30,
      "outputs": []
    },
    {
      "cell_type": "code",
      "source": [
        "# define our cnn model\n",
        "conv1 = nn.Conv2d( 1, 6 , 3 ,1)\n",
        "conv2 = nn.Conv2d( 6 , 16 , 3 ,1)"
      ],
      "metadata": {
        "id": "Bg-D4LvDA2RP"
      },
      "execution_count": 33,
      "outputs": []
    },
    {
      "cell_type": "code",
      "source": [
        "#grad 1 Mnist image"
      ],
      "metadata": {
        "colab": {
          "base_uri": "https://localhost:8080/"
        },
        "id": "n6oKHDpEBng9",
        "outputId": "15549d85-6724-487b-b70f-9d33f187dd55"
      },
      "execution_count": 32,
      "outputs": [
        {
          "output_type": "execute_result",
          "data": {
            "text/plain": [
              "Conv2d(1, 6, kernel_size=(3, 3), stride=(1, 1))"
            ]
          },
          "metadata": {},
          "execution_count": 32
        }
      ]
    },
    {
      "cell_type": "code",
      "source": [
        "for i , (X_train , y_train ) in enumerate(train_data):\n",
        "  break"
      ],
      "metadata": {
        "id": "8oGgacwhBoz_"
      },
      "execution_count": 34,
      "outputs": []
    },
    {
      "cell_type": "code",
      "source": [
        "X_train.shape"
      ],
      "metadata": {
        "colab": {
          "base_uri": "https://localhost:8080/"
        },
        "id": "UM34HIGfCHUi",
        "outputId": "658f4355-edca-476d-b651-83243ebcc68f"
      },
      "execution_count": 35,
      "outputs": [
        {
          "output_type": "execute_result",
          "data": {
            "text/plain": [
              "torch.Size([1, 28, 28])"
            ]
          },
          "metadata": {},
          "execution_count": 35
        }
      ]
    },
    {
      "cell_type": "code",
      "source": [
        "x = X_train.view(1,1,28,28)"
      ],
      "metadata": {
        "id": "vGaM6fKqCJPv"
      },
      "execution_count": 44,
      "outputs": []
    },
    {
      "cell_type": "code",
      "source": [
        "x = F.relu(conv1(x))\n"
      ],
      "metadata": {
        "id": "VlAwZrypCP-c"
      },
      "execution_count": 45,
      "outputs": []
    },
    {
      "cell_type": "code",
      "source": [
        "x.shape"
      ],
      "metadata": {
        "colab": {
          "base_uri": "https://localhost:8080/"
        },
        "id": "or0FIIrgCg8T",
        "outputId": "237d8325-4a5a-4a1b-b2d5-3e434480adc1"
      },
      "execution_count": 46,
      "outputs": [
        {
          "output_type": "execute_result",
          "data": {
            "text/plain": [
              "torch.Size([1, 6, 26, 26])"
            ]
          },
          "metadata": {},
          "execution_count": 46
        }
      ]
    },
    {
      "cell_type": "code",
      "source": [
        "x = F.max_pool2d(x,2,2)"
      ],
      "metadata": {
        "id": "sfib5QMZDGlP"
      },
      "execution_count": 47,
      "outputs": []
    },
    {
      "cell_type": "code",
      "source": [
        "x.shape"
      ],
      "metadata": {
        "colab": {
          "base_uri": "https://localhost:8080/"
        },
        "id": "SH9sIFl0DYeH",
        "outputId": "7145b099-9e53-4690-de24-e94d187134cc"
      },
      "execution_count": 48,
      "outputs": [
        {
          "output_type": "execute_result",
          "data": {
            "text/plain": [
              "torch.Size([1, 6, 13, 13])"
            ]
          },
          "metadata": {},
          "execution_count": 48
        }
      ]
    },
    {
      "cell_type": "code",
      "source": [
        "# second conv layer\n",
        "x = F.relu(conv2(x))"
      ],
      "metadata": {
        "id": "2ZLaD5ivDZjO"
      },
      "execution_count": 49,
      "outputs": []
    },
    {
      "cell_type": "code",
      "source": [
        "x.shape"
      ],
      "metadata": {
        "colab": {
          "base_uri": "https://localhost:8080/"
        },
        "id": "cf5oGq-GDh2M",
        "outputId": "74c26735-4974-420d-a4de-e8695a1f8d85"
      },
      "execution_count": 50,
      "outputs": [
        {
          "output_type": "execute_result",
          "data": {
            "text/plain": [
              "torch.Size([1, 16, 11, 11])"
            ]
          },
          "metadata": {},
          "execution_count": 50
        }
      ]
    },
    {
      "cell_type": "code",
      "source": [
        "x = F.max_pool2d(x,2,2)"
      ],
      "metadata": {
        "id": "dnF69qDXDiuP"
      },
      "execution_count": 51,
      "outputs": []
    },
    {
      "cell_type": "code",
      "source": [
        "x.shape"
      ],
      "metadata": {
        "colab": {
          "base_uri": "https://localhost:8080/"
        },
        "id": "WuEM2qKeDsTK",
        "outputId": "153b26d5-fdbe-40bd-f518-da9b1409e763"
      },
      "execution_count": 52,
      "outputs": [
        {
          "output_type": "execute_result",
          "data": {
            "text/plain": [
              "torch.Size([1, 16, 5, 5])"
            ]
          },
          "metadata": {},
          "execution_count": 52
        }
      ]
    },
    {
      "cell_type": "code",
      "source": [
        "class cnn(nn.Module):\n",
        "  def __init__(self):\n",
        "    super().__init__()\n",
        "    self.conv1 = nn.Conv2d( 1, 6 , 3 ,1)\n",
        "    self.conv2 = nn.Conv2d( 6 , 16 , 3 ,1)\n",
        "    # fully connected layer\n",
        "    self.fc1 = nn.Linear(5*5*16 , 120)\n",
        "    self.fc2 = nn.Linear(120 , 84)\n",
        "    self.fc3 = nn.Linear(84 , 10)\n",
        "\n",
        "\n",
        "  def forward(self, X):\n",
        "    X = F.relu(self.conv1(X))\n",
        "    X = F.max_pool2d(X,2,2)\n",
        "    X = F.relu(self.conv2(X))\n",
        "    X = F.max_pool2d(X,2,2)\n",
        "    X = X.view(-1 , 5*5*16)\n",
        "\n",
        "    X = F.relu(self.fc1(X))\n",
        "    X = F.relu(self.fc2(X))\n",
        "    X = self.fc3(X)\n",
        "\n",
        "    return F.log_softmax(X, dim=1)"
      ],
      "metadata": {
        "id": "GmGCJ7hODtT2"
      },
      "execution_count": 64,
      "outputs": []
    },
    {
      "cell_type": "code",
      "source": [
        "torch.manual_seed(41)\n",
        "model=cnn()\n",
        "model"
      ],
      "metadata": {
        "colab": {
          "base_uri": "https://localhost:8080/"
        },
        "id": "31k5Aa45EKSb",
        "outputId": "92bc9980-249b-4ff9-d72e-ac627ecf4d5f"
      },
      "execution_count": 65,
      "outputs": [
        {
          "output_type": "execute_result",
          "data": {
            "text/plain": [
              "cnn(\n",
              "  (conv1): Conv2d(1, 6, kernel_size=(3, 3), stride=(1, 1))\n",
              "  (conv2): Conv2d(6, 16, kernel_size=(3, 3), stride=(1, 1))\n",
              "  (fc1): Linear(in_features=400, out_features=120, bias=True)\n",
              "  (fc2): Linear(in_features=120, out_features=84, bias=True)\n",
              "  (fc3): Linear(in_features=84, out_features=10, bias=True)\n",
              ")"
            ]
          },
          "metadata": {},
          "execution_count": 65
        }
      ]
    },
    {
      "cell_type": "code",
      "source": [
        "criterion = nn.CrossEntropyLoss()\n",
        "optimizer = torch.optim.Adam(model.parameters(), lr=0.001)"
      ],
      "metadata": {
        "id": "5J-PbnItF-Jz"
      },
      "execution_count": 66,
      "outputs": []
    },
    {
      "cell_type": "code",
      "source": [
        "import time\n",
        "start_time = time.time()\n",
        "\n",
        "\n",
        "epochs = 5\n",
        "train_losses =[]\n",
        "test_losses = []\n",
        "train_correct = []\n",
        "test_correct = []\n",
        "\n",
        "for i in range(epochs):\n",
        "  trn_corr = 0\n",
        "  tst_corr = 0\n",
        "\n",
        "\n",
        "  #train\n",
        "  for b , (X_train , y_train) in enumerate(train_loader):\n",
        "    b+=1\n",
        "    y_pred = model(X_train)\n",
        "    loss = criterion(y_pred , y_train)\n",
        "    predicted = torch.max(y_pred.data , 1)[1]\n",
        "    batch_corr = (predicted == y_train).sum()\n",
        "    trn_corr+= batch_corr\n",
        "\n",
        "\n",
        "    #update para\n",
        "    optimizer.zero_grad()\n",
        "    loss.backward()\n",
        "    optimizer.step()\n",
        "\n",
        "    #print out some resuts\n",
        "    if b%600 ==0:\n",
        "      print(f'epoch : {i} , batch : {b} , loss : {loss.item()}')\n",
        "\n",
        "    train_losses.append(loss)\n",
        "    train_correct.append(trn_corr)\n",
        "\n",
        "  #test\n",
        "  with torch.no_grad():\n",
        "    for b , (X_test , y_test) in enumerate(test_loader):\n",
        "      y_val = model(X_test)\n",
        "      predicted = torch.max(y_val.data , 1)[1]\n",
        "      tst_corr = (predicted == y_test).sum()\n",
        "\n",
        "    loss = criterion(y_val , y_test)\n",
        "\n",
        "    test_losses.append(loss)\n",
        "    test_correct.append(tst_corr)\n",
        "\n",
        "\n",
        "\n",
        "current_time = time.time()\n",
        "total = current_time - start_time\n",
        "print(total)"
      ],
      "metadata": {
        "id": "1rultuAjGGkH",
        "outputId": "7ee67077-6103-4676-d290-aafe41f6a99b",
        "colab": {
          "base_uri": "https://localhost:8080/"
        }
      },
      "execution_count": 69,
      "outputs": [
        {
          "output_type": "stream",
          "name": "stdout",
          "text": [
            "epoch : 0 , batch : 600 , loss : 0.14749222993850708\n",
            "epoch : 0 , batch : 1200 , loss : 0.2706121802330017\n",
            "epoch : 0 , batch : 1800 , loss : 0.00956921186298132\n",
            "epoch : 0 , batch : 2400 , loss : 0.0063883536495268345\n",
            "epoch : 0 , batch : 3000 , loss : 0.002237545093521476\n",
            "epoch : 0 , batch : 3600 , loss : 0.23918752372264862\n",
            "epoch : 0 , batch : 4200 , loss : 0.00048339104978367686\n",
            "epoch : 0 , batch : 4800 , loss : 0.1504632532596588\n",
            "epoch : 0 , batch : 5400 , loss : 0.0010857878951355815\n",
            "epoch : 0 , batch : 6000 , loss : 0.001957091735675931\n",
            "epoch : 1 , batch : 600 , loss : 0.011673185043036938\n",
            "epoch : 1 , batch : 1200 , loss : 0.13187162578105927\n",
            "epoch : 1 , batch : 1800 , loss : 0.5180457830429077\n",
            "epoch : 1 , batch : 2400 , loss : 0.31928375363349915\n",
            "epoch : 1 , batch : 3000 , loss : 0.5415772795677185\n",
            "epoch : 1 , batch : 3600 , loss : 0.004114631563425064\n",
            "epoch : 1 , batch : 4200 , loss : 0.4243695139884949\n",
            "epoch : 1 , batch : 4800 , loss : 0.0007736948318779469\n",
            "epoch : 1 , batch : 5400 , loss : 0.009582110680639744\n",
            "epoch : 1 , batch : 6000 , loss : 0.0235171876847744\n",
            "epoch : 2 , batch : 600 , loss : 0.021059537306427956\n",
            "epoch : 2 , batch : 1200 , loss : 0.001273738220334053\n",
            "epoch : 2 , batch : 1800 , loss : 0.0015498610446229577\n",
            "epoch : 2 , batch : 2400 , loss : 0.3456018567085266\n",
            "epoch : 2 , batch : 3000 , loss : 0.001587417908012867\n",
            "epoch : 2 , batch : 3600 , loss : 0.03411406651139259\n",
            "epoch : 2 , batch : 4200 , loss : 0.03635181114077568\n",
            "epoch : 2 , batch : 4800 , loss : 2.7416524972068146e-05\n",
            "epoch : 2 , batch : 5400 , loss : 0.0011036503128707409\n",
            "epoch : 2 , batch : 6000 , loss : 0.00040450962842442095\n",
            "epoch : 3 , batch : 600 , loss : 0.10505988448858261\n",
            "epoch : 3 , batch : 1200 , loss : 0.00018478640413377434\n",
            "epoch : 3 , batch : 1800 , loss : 0.04359640181064606\n",
            "epoch : 3 , batch : 2400 , loss : 0.0220559723675251\n",
            "epoch : 3 , batch : 3000 , loss : 0.00020134153601247817\n",
            "epoch : 3 , batch : 3600 , loss : 0.06602079421281815\n",
            "epoch : 3 , batch : 4200 , loss : 0.0035922438837587833\n",
            "epoch : 3 , batch : 4800 , loss : 0.005729828029870987\n",
            "epoch : 3 , batch : 5400 , loss : 0.0001239250850630924\n",
            "epoch : 3 , batch : 6000 , loss : 0.0003706074203364551\n",
            "epoch : 4 , batch : 600 , loss : 0.00034066737862303853\n",
            "epoch : 4 , batch : 1200 , loss : 0.00010640888649504632\n",
            "epoch : 4 , batch : 1800 , loss : 0.0002102428989019245\n",
            "epoch : 4 , batch : 2400 , loss : 7.307387022592593e-06\n",
            "epoch : 4 , batch : 3000 , loss : 0.0019299478735774755\n",
            "epoch : 4 , batch : 3600 , loss : 0.01865839585661888\n",
            "epoch : 4 , batch : 4200 , loss : 0.0009762399713508785\n",
            "epoch : 4 , batch : 4800 , loss : 0.013853991404175758\n",
            "epoch : 4 , batch : 5400 , loss : 0.00048166210763156414\n",
            "epoch : 4 , batch : 6000 , loss : 0.0006333889323286712\n",
            "198.82063245773315\n"
          ]
        }
      ]
    }
  ]
}